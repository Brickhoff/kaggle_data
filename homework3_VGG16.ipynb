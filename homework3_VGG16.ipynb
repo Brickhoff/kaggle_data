{
  "nbformat": 4,
  "nbformat_minor": 0,
  "metadata": {
    "colab": {
      "name": "homework3_VGG16.ipynb",
      "version": "0.3.2",
      "provenance": [],
      "collapsed_sections": [],
      "toc_visible": true,
      "include_colab_link": true
    },
    "kernelspec": {
      "name": "python3",
      "display_name": "Python 3"
    },
    "accelerator": "GPU"
  },
  "cells": [
    {
      "cell_type": "markdown",
      "metadata": {
        "id": "view-in-github",
        "colab_type": "text"
      },
      "source": [
        "<a href=\"https://colab.research.google.com/github/Brickhoff/kaggle_data/blob/master/homework3_VGG16.ipynb\" target=\"_parent\"><img src=\"https://colab.research.google.com/assets/colab-badge.svg\" alt=\"Open In Colab\"/></a>"
      ]
    },
    {
      "metadata": {
        "id": "3xoB8vi8tVVy",
        "colab_type": "text"
      },
      "cell_type": "markdown",
      "source": [
        "# Name: Xuezhang Wu\n",
        "# UIN: 227000740"
      ]
    },
    {
      "metadata": {
        "id": "dIa90nXMtVV0",
        "colab_type": "code",
        "colab": {
          "base_uri": "https://localhost:8080/",
          "height": 141
        },
        "outputId": "4505ecd6-9a30-4f5b-c7b6-29ca684c438e"
      },
      "cell_type": "code",
      "source": [
        "# Instantiating the VGG16 convolutional base\n",
        "\n",
        "from keras.applications import VGG16\n",
        "\n",
        "conv_base = VGG16(weights='imagenet',\n",
        "                  include_top=False,\n",
        "                  input_shape=(150, 150, 3))"
      ],
      "execution_count": 1,
      "outputs": [
        {
          "output_type": "stream",
          "text": [
            "Using TensorFlow backend.\n"
          ],
          "name": "stderr"
        },
        {
          "output_type": "stream",
          "text": [
            "WARNING:tensorflow:From /usr/local/lib/python3.6/dist-packages/tensorflow/python/framework/op_def_library.py:263: colocate_with (from tensorflow.python.framework.ops) is deprecated and will be removed in a future version.\n",
            "Instructions for updating:\n",
            "Colocations handled automatically by placer.\n",
            "Downloading data from https://github.com/fchollet/deep-learning-models/releases/download/v0.1/vgg16_weights_tf_dim_ordering_tf_kernels_notop.h5\n",
            "58892288/58889256 [==============================] - 3s 0us/step\n"
          ],
          "name": "stdout"
        }
      ]
    },
    {
      "metadata": {
        "id": "D0Vtpmo4tVV_",
        "colab_type": "code",
        "colab": {
          "base_uri": "https://localhost:8080/",
          "height": 797
        },
        "outputId": "b80338c3-1e7d-41ed-9e66-614ff6c1a58c"
      },
      "cell_type": "code",
      "source": [
        "# Displaying a summary of the convolutional base\n",
        "\n",
        "conv_base.summary()"
      ],
      "execution_count": 2,
      "outputs": [
        {
          "output_type": "stream",
          "text": [
            "_________________________________________________________________\n",
            "Layer (type)                 Output Shape              Param #   \n",
            "=================================================================\n",
            "input_1 (InputLayer)         (None, 150, 150, 3)       0         \n",
            "_________________________________________________________________\n",
            "block1_conv1 (Conv2D)        (None, 150, 150, 64)      1792      \n",
            "_________________________________________________________________\n",
            "block1_conv2 (Conv2D)        (None, 150, 150, 64)      36928     \n",
            "_________________________________________________________________\n",
            "block1_pool (MaxPooling2D)   (None, 75, 75, 64)        0         \n",
            "_________________________________________________________________\n",
            "block2_conv1 (Conv2D)        (None, 75, 75, 128)       73856     \n",
            "_________________________________________________________________\n",
            "block2_conv2 (Conv2D)        (None, 75, 75, 128)       147584    \n",
            "_________________________________________________________________\n",
            "block2_pool (MaxPooling2D)   (None, 37, 37, 128)       0         \n",
            "_________________________________________________________________\n",
            "block3_conv1 (Conv2D)        (None, 37, 37, 256)       295168    \n",
            "_________________________________________________________________\n",
            "block3_conv2 (Conv2D)        (None, 37, 37, 256)       590080    \n",
            "_________________________________________________________________\n",
            "block3_conv3 (Conv2D)        (None, 37, 37, 256)       590080    \n",
            "_________________________________________________________________\n",
            "block3_pool (MaxPooling2D)   (None, 18, 18, 256)       0         \n",
            "_________________________________________________________________\n",
            "block4_conv1 (Conv2D)        (None, 18, 18, 512)       1180160   \n",
            "_________________________________________________________________\n",
            "block4_conv2 (Conv2D)        (None, 18, 18, 512)       2359808   \n",
            "_________________________________________________________________\n",
            "block4_conv3 (Conv2D)        (None, 18, 18, 512)       2359808   \n",
            "_________________________________________________________________\n",
            "block4_pool (MaxPooling2D)   (None, 9, 9, 512)         0         \n",
            "_________________________________________________________________\n",
            "block5_conv1 (Conv2D)        (None, 9, 9, 512)         2359808   \n",
            "_________________________________________________________________\n",
            "block5_conv2 (Conv2D)        (None, 9, 9, 512)         2359808   \n",
            "_________________________________________________________________\n",
            "block5_conv3 (Conv2D)        (None, 9, 9, 512)         2359808   \n",
            "_________________________________________________________________\n",
            "block5_pool (MaxPooling2D)   (None, 4, 4, 512)         0         \n",
            "=================================================================\n",
            "Total params: 14,714,688\n",
            "Trainable params: 14,714,688\n",
            "Non-trainable params: 0\n",
            "_________________________________________________________________\n"
          ],
          "name": "stdout"
        }
      ]
    },
    {
      "metadata": {
        "id": "Inc1iL0TtVWH",
        "colab_type": "code",
        "colab": {
          "base_uri": "https://localhost:8080/",
          "height": 1251
        },
        "outputId": "4fc19ccc-8f6f-49c8-8d99-ce32112e633b"
      },
      "cell_type": "code",
      "source": [
        "# Extracting features using the pre-trained convolutional base\n",
        "\n",
        "import os\n",
        "import numpy as np\n",
        "from keras.preprocessing.image import ImageDataGenerator\n",
        "\n",
        "base_dir = 'kaggle_data'\n",
        "train_dir = os.path.join(base_dir, 'train')\n",
        "validation_dir = os.path.join(base_dir, 'validation')\n",
        "test_dir = os.path.join(base_dir, 'test')\n",
        "\n",
        "datagen = ImageDataGenerator(rescale=1./255)\n",
        "batch_size = 20\n",
        "\n",
        "def extract_features(directory, sample_count):\n",
        "    features = np.zeros(shape=(sample_count, 4, 4, 512))\n",
        "    labels = np.zeros(shape=(sample_count))\n",
        "    generator = datagen.flow_from_directory(\n",
        "        directory,\n",
        "        target_size=(150, 150),\n",
        "        batch_size=batch_size,\n",
        "        class_mode='binary')\n",
        "    i = 0\n",
        "    for inputs_batch, labels_batch in generator:\n",
        "        features_batch = conv_base.predict(inputs_batch)\n",
        "        features[i * batch_size : (i + 1) * batch_size] = features_batch\n",
        "        labels[i * batch_size : (i + 1) * batch_size] = labels_batch\n",
        "        i += 1\n",
        "        if i * batch_size >= sample_count:\n",
        "            # Note that since generators yield data indefinitely in a loop,\n",
        "            # we must `break` after every image has been seen once.\n",
        "            break\n",
        "    return features, labels\n",
        "\n",
        "train_features, train_labels = extract_features(train_dir, 2000)\n",
        "validation_features, validation_labels = extract_features(validation_dir, 1000)\n",
        "test_features, test_labels = extract_features(test_dir, 1000)\n",
        "\n",
        "# The extracted features are currently of shape (samples, 4, 4, 512). We will feed\n",
        "# them to a densely-connected classifier, so first we must flatten them to (samples,\n",
        "# 8192)\n",
        "\n",
        "train_features = np.reshape(train_features, (2000, 4 * 4 * 512))\n",
        "validation_features = np.reshape(validation_features, (1000, 4 * 4 * 512))\n",
        "test_features = np.reshape(test_features, (1000, 4 * 4 * 512))\n",
        "\n",
        "# At this point, we can define our densely-connected classifier (note the use of dropout\n",
        "# for regularization), and train it on the data and labels that we just recorded:\n",
        "\n",
        "from keras import models\n",
        "from keras import layers\n",
        "from keras import optimizers\n",
        "\n",
        "model = models.Sequential()\n",
        "model.add(layers.Dense(256, activation='relu', input_dim=4 * 4 * 512))\n",
        "model.add(layers.Dropout(0.5))\n",
        "model.add(layers.Dense(1, activation='sigmoid'))\n",
        "\n",
        "model.compile(optimizer=optimizers.RMSprop(lr=2e-5),\n",
        "              loss='binary_crossentropy',\n",
        "              metrics=['acc'])\n",
        "\n",
        "history = model.fit(train_features, train_labels,\n",
        "                    epochs=30,\n",
        "                    batch_size=20,\n",
        "                    validation_data=(validation_features, validation_labels))"
      ],
      "execution_count": 3,
      "outputs": [
        {
          "output_type": "stream",
          "text": [
            "Found 2000 images belonging to 2 classes.\n",
            "Found 1000 images belonging to 2 classes.\n",
            "Found 1000 images belonging to 2 classes.\n",
            "WARNING:tensorflow:From /usr/local/lib/python3.6/dist-packages/keras/backend/tensorflow_backend.py:3445: calling dropout (from tensorflow.python.ops.nn_ops) with keep_prob is deprecated and will be removed in a future version.\n",
            "Instructions for updating:\n",
            "Please use `rate` instead of `keep_prob`. Rate should be set to `rate = 1 - keep_prob`.\n",
            "WARNING:tensorflow:From /usr/local/lib/python3.6/dist-packages/tensorflow/python/ops/math_ops.py:3066: to_int32 (from tensorflow.python.ops.math_ops) is deprecated and will be removed in a future version.\n",
            "Instructions for updating:\n",
            "Use tf.cast instead.\n",
            "Train on 2000 samples, validate on 1000 samples\n",
            "Epoch 1/30\n",
            "2000/2000 [==============================] - 1s 567us/step - loss: 0.6072 - acc: 0.6705 - val_loss: 0.4400 - val_acc: 0.8410\n",
            "Epoch 2/30\n",
            "2000/2000 [==============================] - 1s 356us/step - loss: 0.4373 - acc: 0.8010 - val_loss: 0.3566 - val_acc: 0.8590\n",
            "Epoch 3/30\n",
            "2000/2000 [==============================] - 1s 355us/step - loss: 0.3605 - acc: 0.8475 - val_loss: 0.3141 - val_acc: 0.8790\n",
            "Epoch 4/30\n",
            "2000/2000 [==============================] - 1s 361us/step - loss: 0.3203 - acc: 0.8615 - val_loss: 0.2924 - val_acc: 0.8870\n",
            "Epoch 5/30\n",
            "2000/2000 [==============================] - 1s 363us/step - loss: 0.2863 - acc: 0.8805 - val_loss: 0.2786 - val_acc: 0.8870\n",
            "Epoch 6/30\n",
            "2000/2000 [==============================] - 1s 353us/step - loss: 0.2641 - acc: 0.8975 - val_loss: 0.2743 - val_acc: 0.8880\n",
            "Epoch 7/30\n",
            "2000/2000 [==============================] - 1s 373us/step - loss: 0.2480 - acc: 0.9035 - val_loss: 0.2617 - val_acc: 0.8900\n",
            "Epoch 8/30\n",
            "2000/2000 [==============================] - 1s 385us/step - loss: 0.2305 - acc: 0.9085 - val_loss: 0.2542 - val_acc: 0.8950\n",
            "Epoch 9/30\n",
            "2000/2000 [==============================] - 1s 387us/step - loss: 0.2209 - acc: 0.9125 - val_loss: 0.2591 - val_acc: 0.8900\n",
            "Epoch 10/30\n",
            "2000/2000 [==============================] - 1s 387us/step - loss: 0.2047 - acc: 0.9205 - val_loss: 0.2455 - val_acc: 0.9020\n",
            "Epoch 11/30\n",
            "2000/2000 [==============================] - 1s 387us/step - loss: 0.1964 - acc: 0.9275 - val_loss: 0.2457 - val_acc: 0.8970\n",
            "Epoch 12/30\n",
            "2000/2000 [==============================] - 1s 391us/step - loss: 0.1836 - acc: 0.9260 - val_loss: 0.2455 - val_acc: 0.8950\n",
            "Epoch 13/30\n",
            "2000/2000 [==============================] - 1s 390us/step - loss: 0.1756 - acc: 0.9315 - val_loss: 0.2384 - val_acc: 0.9070\n",
            "Epoch 14/30\n",
            "2000/2000 [==============================] - 1s 385us/step - loss: 0.1768 - acc: 0.9385 - val_loss: 0.2389 - val_acc: 0.9040\n",
            "Epoch 15/30\n",
            "2000/2000 [==============================] - 1s 390us/step - loss: 0.1630 - acc: 0.9425 - val_loss: 0.2364 - val_acc: 0.9050\n",
            "Epoch 16/30\n",
            "2000/2000 [==============================] - 1s 390us/step - loss: 0.1583 - acc: 0.9410 - val_loss: 0.2355 - val_acc: 0.9070\n",
            "Epoch 17/30\n",
            "2000/2000 [==============================] - 1s 392us/step - loss: 0.1450 - acc: 0.9545 - val_loss: 0.2439 - val_acc: 0.8970\n",
            "Epoch 18/30\n",
            "2000/2000 [==============================] - 1s 386us/step - loss: 0.1418 - acc: 0.9525 - val_loss: 0.2338 - val_acc: 0.9040\n",
            "Epoch 19/30\n",
            "2000/2000 [==============================] - 1s 389us/step - loss: 0.1383 - acc: 0.9485 - val_loss: 0.2374 - val_acc: 0.9010\n",
            "Epoch 20/30\n",
            "2000/2000 [==============================] - 1s 394us/step - loss: 0.1287 - acc: 0.9600 - val_loss: 0.2352 - val_acc: 0.9020\n",
            "Epoch 21/30\n",
            "2000/2000 [==============================] - 1s 389us/step - loss: 0.1255 - acc: 0.9590 - val_loss: 0.2384 - val_acc: 0.9040\n",
            "Epoch 22/30\n",
            "2000/2000 [==============================] - 1s 387us/step - loss: 0.1184 - acc: 0.9625 - val_loss: 0.2331 - val_acc: 0.9040\n",
            "Epoch 23/30\n",
            "2000/2000 [==============================] - 1s 390us/step - loss: 0.1163 - acc: 0.9630 - val_loss: 0.2338 - val_acc: 0.9060\n",
            "Epoch 24/30\n",
            "2000/2000 [==============================] - 1s 390us/step - loss: 0.1044 - acc: 0.9690 - val_loss: 0.2549 - val_acc: 0.8900\n",
            "Epoch 25/30\n",
            "2000/2000 [==============================] - 1s 389us/step - loss: 0.1100 - acc: 0.9625 - val_loss: 0.2399 - val_acc: 0.9020\n",
            "Epoch 26/30\n",
            "2000/2000 [==============================] - 1s 393us/step - loss: 0.1000 - acc: 0.9695 - val_loss: 0.2435 - val_acc: 0.9010\n",
            "Epoch 27/30\n",
            "2000/2000 [==============================] - 1s 389us/step - loss: 0.1000 - acc: 0.9700 - val_loss: 0.2342 - val_acc: 0.9020\n",
            "Epoch 28/30\n",
            "2000/2000 [==============================] - 1s 387us/step - loss: 0.0962 - acc: 0.9735 - val_loss: 0.2379 - val_acc: 0.9030\n",
            "Epoch 29/30\n",
            "2000/2000 [==============================] - 1s 390us/step - loss: 0.0900 - acc: 0.9700 - val_loss: 0.2409 - val_acc: 0.9040\n",
            "Epoch 30/30\n",
            "2000/2000 [==============================] - 1s 391us/step - loss: 0.0877 - acc: 0.9725 - val_loss: 0.2356 - val_acc: 0.9000\n"
          ],
          "name": "stdout"
        }
      ]
    },
    {
      "metadata": {
        "id": "hWS38qn9tVWO",
        "colab_type": "code",
        "colab": {
          "base_uri": "https://localhost:8080/",
          "height": 544
        },
        "outputId": "d79005cb-a1dd-4fa5-f39e-b43db6cb89e3"
      },
      "cell_type": "code",
      "source": [
        "# Plotting our results\n",
        "\n",
        "import matplotlib.pyplot as plt\n",
        "%matplotlib inline\n",
        "\n",
        "acc = history.history['acc']\n",
        "val_acc = history.history['val_acc']\n",
        "loss = history.history['loss']\n",
        "val_loss = history.history['val_loss']\n",
        "\n",
        "epochs = range(1, len(acc) + 1)\n",
        "\n",
        "plt.plot(epochs, acc, 'bo', label='Training acc')\n",
        "plt.plot(epochs, val_acc, 'b', label='Validation acc')\n",
        "plt.title('Training and validation accuracy')\n",
        "plt.legend()\n",
        "\n",
        "plt.figure()\n",
        "\n",
        "plt.plot(epochs, loss, 'bo', label='Training loss')\n",
        "plt.plot(epochs, val_loss, 'b', label='Validation loss')\n",
        "plt.title('Training and validation loss')\n",
        "plt.legend()\n",
        "\n",
        "plt.show()"
      ],
      "execution_count": 4,
      "outputs": [
        {
          "output_type": "display_data",
          "data": {
            "image/png": "[encoded data removed]",
            "text/plain": [
              "<Figure size 432x288 with 1 Axes>"
            ]
          },
          "metadata": {
            "tags": []
          }
        },
        {
          "output_type": "display_data",
          "data": {
            "image/png": "[encoded data removed]",
            "text/plain": [
              "<Figure size 432x288 with 1 Axes>"
            ]
          },
          "metadata": {
            "tags": []
          }
        }
      ]
    },
    {
      "metadata": {
        "id": "j4_BVXF7tVWU",
        "colab_type": "code",
        "colab": {}
      },
      "cell_type": "code",
      "source": [
        "# Adding a densely-connected classifier on top of the convolutional base\n",
        "\n",
        "from keras import models\n",
        "from keras import layers\n",
        "\n",
        "model = models.Sequential()\n",
        "model.add(conv_base)\n",
        "model.add(layers.Flatten())\n",
        "model.add(layers.Dense(256, activation='relu'))\n",
        "model.add(layers.Dense(1, activation='sigmoid'))"
      ],
      "execution_count": 0,
      "outputs": []
    },
    {
      "metadata": {
        "id": "jGX6u9ZJtVWZ",
        "colab_type": "code",
        "colab": {
          "base_uri": "https://localhost:8080/",
          "height": 277
        },
        "outputId": "93edcf6a-c2a2-4a27-b4c2-0f943a34bd9e"
      },
      "cell_type": "code",
      "source": [
        "# Summary of the extended model\n",
        "\n",
        "model.summary()"
      ],
      "execution_count": 6,
      "outputs": [
        {
          "output_type": "stream",
          "text": [
            "_________________________________________________________________\n",
            "Layer (type)                 Output Shape              Param #   \n",
            "=================================================================\n",
            "vgg16 (Model)                (None, 4, 4, 512)         14714688  \n",
            "_________________________________________________________________\n",
            "flatten_1 (Flatten)          (None, 8192)              0         \n",
            "_________________________________________________________________\n",
            "dense_3 (Dense)              (None, 256)               2097408   \n",
            "_________________________________________________________________\n",
            "dense_4 (Dense)              (None, 1)                 257       \n",
            "=================================================================\n",
            "Total params: 16,812,353\n",
            "Trainable params: 16,812,353\n",
            "Non-trainable params: 0\n",
            "_________________________________________________________________\n"
          ],
          "name": "stdout"
        }
      ]
    },
    {
      "metadata": {
        "id": "Nn7klGoQtVWf",
        "colab_type": "code",
        "colab": {
          "base_uri": "https://localhost:8080/",
          "height": 35
        },
        "outputId": "4e9a9f84-a55a-4583-876b-2e45c93b2329"
      },
      "cell_type": "code",
      "source": [
        "# Freezing the convolutional base\n",
        "print('This is the number of trainable weights '\n",
        "     'before freezing the conv base:', len(model.trainable_weights))"
      ],
      "execution_count": 7,
      "outputs": [
        {
          "output_type": "stream",
          "text": [
            "This is the number of trainable weights before freezing the conv base: 30\n"
          ],
          "name": "stdout"
        }
      ]
    },
    {
      "metadata": {
        "id": "YuUc9hLitVWk",
        "colab_type": "code",
        "colab": {}
      },
      "cell_type": "code",
      "source": [
        "conv_base.trainable = False"
      ],
      "execution_count": 0,
      "outputs": []
    },
    {
      "metadata": {
        "id": "erpabm5EtVWq",
        "colab_type": "code",
        "colab": {
          "base_uri": "https://localhost:8080/",
          "height": 35
        },
        "outputId": "40793c1a-9920-4888-83cf-13fba35ba97a"
      },
      "cell_type": "code",
      "source": [
        "print('This is the number of trainable weights '\n",
        "     'after freezing the conv base:', len(model.trainable_weights))"
      ],
      "execution_count": 9,
      "outputs": [
        {
          "output_type": "stream",
          "text": [
            "This is the number of trainable weights after freezing the conv base: 4\n"
          ],
          "name": "stdout"
        }
      ]
    },
    {
      "metadata": {
        "id": "-0SuBiuMtVWx",
        "colab_type": "code",
        "colab": {
          "base_uri": "https://localhost:8080/",
          "height": 1112
        },
        "outputId": "3b13e12c-3be3-4f38-f40d-b286bc938acf"
      },
      "cell_type": "code",
      "source": [
        "# Training the model end-to-end with a frozen convolutional base\n",
        "\n",
        "from keras.preprocessing.image import ImageDataGenerator\n",
        "\n",
        "train_datagen = ImageDataGenerator(\n",
        "    rescale=1./255,\n",
        "    rotation_range=40,\n",
        "    width_shift_range=0.2,\n",
        "    height_shift_range=0.2,\n",
        "    shear_range=0.2,\n",
        "    zoom_range=0.2,\n",
        "    horizontal_flip=True,\n",
        "    fill_mode='nearest')\n",
        "\n",
        "# Note that the validation data should not be augmented!\n",
        "test_datagen = ImageDataGenerator(rescale=1./255)\n",
        "\n",
        "train_generator = train_datagen.flow_from_directory(\n",
        "    # This is the target directory\n",
        "    train_dir,\n",
        "    # All images will be resized to 150x150\n",
        "    target_size=(150, 150),\n",
        "    batch_size=20,\n",
        "    # Since we use binary_crossentropy loss, we need binary labels\n",
        "    class_mode='binary')\n",
        "\n",
        "validation_generator = test_datagen.flow_from_directory(\n",
        "    validation_dir,\n",
        "    target_size=(150, 150),\n",
        "    batch_size=20,\n",
        "    class_mode='binary')\n",
        "\n",
        "model.compile(loss='binary_crossentropy',\n",
        "              optimizer=optimizers.RMSprop(lr=2e-5),\n",
        "              metrics=['acc'])\n",
        "\n",
        "history = model.fit_generator(\n",
        "    train_generator,\n",
        "    steps_per_epoch=100,\n",
        "    epochs=30,\n",
        "    validation_data=validation_generator,\n",
        "    validation_steps=50)"
      ],
      "execution_count": 10,
      "outputs": [
        {
          "output_type": "stream",
          "text": [
            "Found 2000 images belonging to 2 classes.\n",
            "Found 1000 images belonging to 2 classes.\n",
            "Epoch 1/30\n",
            "100/100 [==============================] - 28s 278ms/step - loss: 0.6023 - acc: 0.6700 - val_loss: 0.4526 - val_acc: 0.8310\n",
            "Epoch 2/30\n",
            "100/100 [==============================] - 26s 259ms/step - loss: 0.4930 - acc: 0.7745 - val_loss: 0.3699 - val_acc: 0.8620\n",
            "Epoch 3/30\n",
            "100/100 [==============================] - 26s 256ms/step - loss: 0.4274 - acc: 0.8140 - val_loss: 0.3527 - val_acc: 0.8380\n",
            "Epoch 4/30\n",
            "100/100 [==============================] - 26s 256ms/step - loss: 0.4023 - acc: 0.8285 - val_loss: 0.3155 - val_acc: 0.8710\n",
            "Epoch 5/30\n",
            "100/100 [==============================] - 26s 256ms/step - loss: 0.3864 - acc: 0.8230 - val_loss: 0.2897 - val_acc: 0.8820\n",
            "Epoch 6/30\n",
            "100/100 [==============================] - 26s 265ms/step - loss: 0.3678 - acc: 0.8505 - val_loss: 0.2997 - val_acc: 0.8770\n",
            "Epoch 7/30\n",
            "100/100 [==============================] - 25s 251ms/step - loss: 0.3630 - acc: 0.8435 - val_loss: 0.2752 - val_acc: 0.8870\n",
            "Epoch 8/30\n",
            "100/100 [==============================] - 26s 263ms/step - loss: 0.3612 - acc: 0.8375 - val_loss: 0.2680 - val_acc: 0.8950\n",
            "Epoch 9/30\n",
            "100/100 [==============================] - 27s 273ms/step - loss: 0.3414 - acc: 0.8580 - val_loss: 0.3015 - val_acc: 0.8740\n",
            "Epoch 10/30\n",
            "100/100 [==============================] - 27s 272ms/step - loss: 0.3400 - acc: 0.8485 - val_loss: 0.2628 - val_acc: 0.8970\n",
            "Epoch 11/30\n",
            "100/100 [==============================] - 27s 271ms/step - loss: 0.3334 - acc: 0.8580 - val_loss: 0.2543 - val_acc: 0.8990\n",
            "Epoch 12/30\n",
            "100/100 [==============================] - 27s 272ms/step - loss: 0.3280 - acc: 0.8625 - val_loss: 0.2533 - val_acc: 0.9000\n",
            "Epoch 13/30\n",
            "100/100 [==============================] - 27s 271ms/step - loss: 0.3085 - acc: 0.8625 - val_loss: 0.2679 - val_acc: 0.8890\n",
            "Epoch 14/30\n",
            "100/100 [==============================] - 26s 256ms/step - loss: 0.3277 - acc: 0.8485 - val_loss: 0.2482 - val_acc: 0.9030\n",
            "Epoch 15/30\n",
            "100/100 [==============================] - 26s 256ms/step - loss: 0.3043 - acc: 0.8685 - val_loss: 0.2459 - val_acc: 0.9030\n",
            "Epoch 16/30\n",
            "100/100 [==============================] - 26s 255ms/step - loss: 0.3070 - acc: 0.8660 - val_loss: 0.2494 - val_acc: 0.9030\n",
            "Epoch 17/30\n",
            "100/100 [==============================] - 26s 257ms/step - loss: 0.3205 - acc: 0.8610 - val_loss: 0.2421 - val_acc: 0.9040\n",
            "Epoch 18/30\n",
            "100/100 [==============================] - 29s 287ms/step - loss: 0.3060 - acc: 0.8645 - val_loss: 0.2435 - val_acc: 0.8990\n",
            "Epoch 19/30\n",
            "100/100 [==============================] - 27s 269ms/step - loss: 0.3145 - acc: 0.8555 - val_loss: 0.2449 - val_acc: 0.9050\n",
            "Epoch 20/30\n",
            "100/100 [==============================] - 28s 285ms/step - loss: 0.3020 - acc: 0.8625 - val_loss: 0.2409 - val_acc: 0.9010\n",
            "Epoch 21/30\n",
            "100/100 [==============================] - 29s 289ms/step - loss: 0.2879 - acc: 0.8805 - val_loss: 0.2455 - val_acc: 0.9000\n",
            "Epoch 22/30\n",
            "100/100 [==============================] - 29s 288ms/step - loss: 0.2997 - acc: 0.8675 - val_loss: 0.2434 - val_acc: 0.8950\n",
            "Epoch 23/30\n",
            "100/100 [==============================] - 29s 288ms/step - loss: 0.2991 - acc: 0.8730 - val_loss: 0.2413 - val_acc: 0.9030\n",
            "Epoch 24/30\n",
            "100/100 [==============================] - 29s 288ms/step - loss: 0.2851 - acc: 0.8775 - val_loss: 0.2575 - val_acc: 0.8960\n",
            "Epoch 25/30\n",
            "100/100 [==============================] - 28s 283ms/step - loss: 0.2871 - acc: 0.8810 - val_loss: 0.2480 - val_acc: 0.8960\n",
            "Epoch 26/30\n",
            "100/100 [==============================] - 28s 282ms/step - loss: 0.2890 - acc: 0.8710 - val_loss: 0.2427 - val_acc: 0.8990\n",
            "Epoch 27/30\n",
            "100/100 [==============================] - 28s 281ms/step - loss: 0.2823 - acc: 0.8780 - val_loss: 0.2487 - val_acc: 0.9010\n",
            "Epoch 28/30\n",
            "100/100 [==============================] - 28s 283ms/step - loss: 0.2894 - acc: 0.8735 - val_loss: 0.2395 - val_acc: 0.9060\n",
            "Epoch 29/30\n",
            "100/100 [==============================] - 28s 284ms/step - loss: 0.2830 - acc: 0.8790 - val_loss: 0.2391 - val_acc: 0.9030\n",
            "Epoch 30/30\n",
            "100/100 [==============================] - 27s 270ms/step - loss: 0.2807 - acc: 0.8740 - val_loss: 0.2374 - val_acc: 0.9020\n"
          ],
          "name": "stdout"
        }
      ]
    },
    {
      "metadata": {
        "id": "_ekwdBQZxUvt",
        "colab_type": "code",
        "colab": {}
      },
      "cell_type": "code",
      "source": [
        "# save the model\n",
        "\n",
        "model.save('cats_and_dogs_small_3.h5')"
      ],
      "execution_count": 0,
      "outputs": []
    },
    {
      "metadata": {
        "id": "bH_QmtYExglL",
        "colab_type": "code",
        "colab": {
          "base_uri": "https://localhost:8080/",
          "height": 544
        },
        "outputId": "a8e7c9b1-302e-421f-86e8-eaf02e3ef045"
      },
      "cell_type": "code",
      "source": [
        "# plot the result again\n",
        "\n",
        "acc = history.history['acc']\n",
        "val_acc = history.history['val_acc']\n",
        "loss = history.history['loss']\n",
        "val_loss = history.history['val_loss']\n",
        "\n",
        "epochs = range(len(acc))\n",
        "\n",
        "plt.plot(epochs, acc, 'bo', label='Training acc')\n",
        "plt.plot(epochs, val_acc, 'b', label='Validation acc')\n",
        "plt.title('Training and validation accuracy')\n",
        "plt.legend()\n",
        "\n",
        "plt.figure()\n",
        "\n",
        "plt.plot(epochs, loss, 'bo', label='Training loss')\n",
        "plt.plot(epochs, val_loss, 'b', label='Validation loss')\n",
        "plt.title('Training and validation loss')\n",
        "plt.legend()\n",
        "\n",
        "plt.show()"
      ],
      "execution_count": 12,
      "outputs": [
        {
          "output_type": "display_data",
          "data": {
            "image/png": "[encoded data removed]",
            "text/plain": [
              "<Figure size 432x288 with 1 Axes>"
            ]
          },
          "metadata": {
            "tags": []
          }
        },
        {
          "output_type": "display_data",
          "data": {
            "image/png": "[encoded data removed]",
            "text/plain": [
              "<Figure size 432x288 with 1 Axes>"
            ]
          },
          "metadata": {
            "tags": []
          }
        }
      ]
    },
    {
      "metadata": {
        "id": "dBkM6WEutVW2",
        "colab_type": "code",
        "colab": {
          "base_uri": "https://localhost:8080/",
          "height": 797
        },
        "outputId": "b8203502-c8e8-4ee3-c900-b82c82df0ae6"
      },
      "cell_type": "code",
      "source": [
        "# Displaying a summary of the convolutional base\n",
        "\n",
        "conv_base.summary()"
      ],
      "execution_count": 13,
      "outputs": [
        {
          "output_type": "stream",
          "text": [
            "_________________________________________________________________\n",
            "Layer (type)                 Output Shape              Param #   \n",
            "=================================================================\n",
            "input_1 (InputLayer)         (None, 150, 150, 3)       0         \n",
            "_________________________________________________________________\n",
            "block1_conv1 (Conv2D)        (None, 150, 150, 64)      1792      \n",
            "_________________________________________________________________\n",
            "block1_conv2 (Conv2D)        (None, 150, 150, 64)      36928     \n",
            "_________________________________________________________________\n",
            "block1_pool (MaxPooling2D)   (None, 75, 75, 64)        0         \n",
            "_________________________________________________________________\n",
            "block2_conv1 (Conv2D)        (None, 75, 75, 128)       73856     \n",
            "_________________________________________________________________\n",
            "block2_conv2 (Conv2D)        (None, 75, 75, 128)       147584    \n",
            "_________________________________________________________________\n",
            "block2_pool (MaxPooling2D)   (None, 37, 37, 128)       0         \n",
            "_________________________________________________________________\n",
            "block3_conv1 (Conv2D)        (None, 37, 37, 256)       295168    \n",
            "_________________________________________________________________\n",
            "block3_conv2 (Conv2D)        (None, 37, 37, 256)       590080    \n",
            "_________________________________________________________________\n",
            "block3_conv3 (Conv2D)        (None, 37, 37, 256)       590080    \n",
            "_________________________________________________________________\n",
            "block3_pool (MaxPooling2D)   (None, 18, 18, 256)       0         \n",
            "_________________________________________________________________\n",
            "block4_conv1 (Conv2D)        (None, 18, 18, 512)       1180160   \n",
            "_________________________________________________________________\n",
            "block4_conv2 (Conv2D)        (None, 18, 18, 512)       2359808   \n",
            "_________________________________________________________________\n",
            "block4_conv3 (Conv2D)        (None, 18, 18, 512)       2359808   \n",
            "_________________________________________________________________\n",
            "block4_pool (MaxPooling2D)   (None, 9, 9, 512)         0         \n",
            "_________________________________________________________________\n",
            "block5_conv1 (Conv2D)        (None, 9, 9, 512)         2359808   \n",
            "_________________________________________________________________\n",
            "block5_conv2 (Conv2D)        (None, 9, 9, 512)         2359808   \n",
            "_________________________________________________________________\n",
            "block5_conv3 (Conv2D)        (None, 9, 9, 512)         2359808   \n",
            "_________________________________________________________________\n",
            "block5_pool (MaxPooling2D)   (None, 4, 4, 512)         0         \n",
            "=================================================================\n",
            "Total params: 14,714,688\n",
            "Trainable params: 0\n",
            "Non-trainable params: 14,714,688\n",
            "_________________________________________________________________\n"
          ],
          "name": "stdout"
        }
      ]
    },
    {
      "metadata": {
        "id": "F6RNMKP0tVW6",
        "colab_type": "code",
        "colab": {}
      },
      "cell_type": "code",
      "source": [
        "# Freezing all layers up to a specific one\n",
        "\n",
        "conv_base.trainable = True\n",
        "\n",
        "set_trainable = False\n",
        "for layer in conv_base.layers:\n",
        "    if layer.name == 'block5_conv1':\n",
        "        set_trainable = True\n",
        "    if set_trainable:\n",
        "        layer.trainable = True\n",
        "    else:\n",
        "        layer.trainable = False"
      ],
      "execution_count": 0,
      "outputs": []
    },
    {
      "metadata": {
        "id": "bmY93q0ptVW-",
        "colab_type": "code",
        "colab": {
          "base_uri": "https://localhost:8080/",
          "height": 3504
        },
        "outputId": "a7cec1e4-3030-4382-d092-7f12385e66ce"
      },
      "cell_type": "code",
      "source": [
        "# Fine-tuning our model\n",
        "\n",
        "model.compile(loss='binary_crossentropy',\n",
        "              optimizer=optimizers.RMSprop(lr=1e-5),\n",
        "              metrics=['acc'])\n",
        "\n",
        "history = model.fit_generator(\n",
        "    train_generator,\n",
        "    steps_per_epoch=100,\n",
        "    epochs=100,\n",
        "    validation_data=validation_generator,\n",
        "    validation_steps=50)"
      ],
      "execution_count": 15,
      "outputs": [
        {
          "output_type": "stream",
          "text": [
            "Epoch 1/100\n",
            "100/100 [==============================] - 31s 313ms/step - loss: 0.2947 - acc: 0.8805 - val_loss: 0.2356 - val_acc: 0.9100\n",
            "Epoch 2/100\n",
            "100/100 [==============================] - 29s 292ms/step - loss: 0.2492 - acc: 0.8915 - val_loss: 0.2177 - val_acc: 0.9100\n",
            "Epoch 3/100\n",
            "100/100 [==============================] - 29s 292ms/step - loss: 0.2553 - acc: 0.8945 - val_loss: 0.2230 - val_acc: 0.9130\n",
            "Epoch 4/100\n",
            "100/100 [==============================] - 29s 290ms/step - loss: 0.2286 - acc: 0.8975 - val_loss: 0.2007 - val_acc: 0.9260\n",
            "Epoch 5/100\n",
            "100/100 [==============================] - 29s 290ms/step - loss: 0.2004 - acc: 0.9145 - val_loss: 0.1845 - val_acc: 0.9290\n",
            "Epoch 6/100\n",
            "100/100 [==============================] - 28s 281ms/step - loss: 0.2067 - acc: 0.9155 - val_loss: 0.1954 - val_acc: 0.9210\n",
            "Epoch 7/100\n",
            "100/100 [==============================] - 28s 280ms/step - loss: 0.1656 - acc: 0.9360 - val_loss: 0.2291 - val_acc: 0.9210\n",
            "Epoch 8/100\n",
            "100/100 [==============================] - 29s 291ms/step - loss: 0.1790 - acc: 0.9235 - val_loss: 0.1829 - val_acc: 0.9340\n",
            "Epoch 9/100\n",
            "100/100 [==============================] - 29s 292ms/step - loss: 0.1819 - acc: 0.9250 - val_loss: 0.1902 - val_acc: 0.9260\n",
            "Epoch 10/100\n",
            "100/100 [==============================] - 29s 292ms/step - loss: 0.1438 - acc: 0.9395 - val_loss: 0.1937 - val_acc: 0.9320\n",
            "Epoch 11/100\n",
            "100/100 [==============================] - 30s 295ms/step - loss: 0.1514 - acc: 0.9410 - val_loss: 0.2162 - val_acc: 0.9210\n",
            "Epoch 12/100\n",
            "100/100 [==============================] - 29s 292ms/step - loss: 0.1400 - acc: 0.9405 - val_loss: 0.1999 - val_acc: 0.9250\n",
            "Epoch 13/100\n",
            "100/100 [==============================] - 29s 291ms/step - loss: 0.1239 - acc: 0.9470 - val_loss: 0.2279 - val_acc: 0.9150\n",
            "Epoch 14/100\n",
            "100/100 [==============================] - 29s 291ms/step - loss: 0.1363 - acc: 0.9470 - val_loss: 0.1993 - val_acc: 0.9280\n",
            "Epoch 15/100\n",
            "100/100 [==============================] - 29s 289ms/step - loss: 0.1218 - acc: 0.9535 - val_loss: 0.1839 - val_acc: 0.9290\n",
            "Epoch 16/100\n",
            "100/100 [==============================] - 29s 290ms/step - loss: 0.1074 - acc: 0.9590 - val_loss: 0.1898 - val_acc: 0.9290\n",
            "Epoch 17/100\n",
            "100/100 [==============================] - 28s 284ms/step - loss: 0.1287 - acc: 0.9530 - val_loss: 0.1829 - val_acc: 0.9330\n",
            "Epoch 18/100\n",
            "100/100 [==============================] - 28s 280ms/step - loss: 0.1164 - acc: 0.9530 - val_loss: 0.1818 - val_acc: 0.9300\n",
            "Epoch 19/100\n",
            "100/100 [==============================] - 29s 290ms/step - loss: 0.1020 - acc: 0.9560 - val_loss: 0.1912 - val_acc: 0.9310\n",
            "Epoch 20/100\n",
            "100/100 [==============================] - 29s 292ms/step - loss: 0.0906 - acc: 0.9670 - val_loss: 0.1973 - val_acc: 0.9300\n",
            "Epoch 21/100\n",
            "100/100 [==============================] - 29s 291ms/step - loss: 0.0904 - acc: 0.9695 - val_loss: 0.1627 - val_acc: 0.9460\n",
            "Epoch 22/100\n",
            "100/100 [==============================] - 29s 294ms/step - loss: 0.0901 - acc: 0.9655 - val_loss: 0.1754 - val_acc: 0.9310\n",
            "Epoch 23/100\n",
            "100/100 [==============================] - 29s 292ms/step - loss: 0.0803 - acc: 0.9660 - val_loss: 0.2091 - val_acc: 0.9350\n",
            "Epoch 24/100\n",
            "100/100 [==============================] - 29s 292ms/step - loss: 0.0850 - acc: 0.9635 - val_loss: 0.1765 - val_acc: 0.9380\n",
            "Epoch 25/100\n",
            "100/100 [==============================] - 29s 288ms/step - loss: 0.0826 - acc: 0.9700 - val_loss: 0.2171 - val_acc: 0.9340\n",
            "Epoch 26/100\n",
            "100/100 [==============================] - 27s 265ms/step - loss: 0.0734 - acc: 0.9750 - val_loss: 0.2155 - val_acc: 0.9330\n",
            "Epoch 27/100\n",
            "100/100 [==============================] - 27s 267ms/step - loss: 0.0717 - acc: 0.9690 - val_loss: 0.2155 - val_acc: 0.9290\n",
            "Epoch 28/100\n",
            "100/100 [==============================] - 27s 266ms/step - loss: 0.0586 - acc: 0.9790 - val_loss: 0.2209 - val_acc: 0.9360\n",
            "Epoch 29/100\n",
            "100/100 [==============================] - 28s 276ms/step - loss: 0.0835 - acc: 0.9710 - val_loss: 0.2074 - val_acc: 0.9340\n",
            "Epoch 30/100\n",
            "100/100 [==============================] - 29s 293ms/step - loss: 0.0565 - acc: 0.9800 - val_loss: 0.1868 - val_acc: 0.9400\n",
            "Epoch 31/100\n",
            "100/100 [==============================] - 29s 294ms/step - loss: 0.0660 - acc: 0.9730 - val_loss: 0.2162 - val_acc: 0.9340\n",
            "Epoch 32/100\n",
            "100/100 [==============================] - 29s 294ms/step - loss: 0.0620 - acc: 0.9795 - val_loss: 0.2571 - val_acc: 0.9240\n",
            "Epoch 33/100\n",
            "100/100 [==============================] - 29s 291ms/step - loss: 0.0611 - acc: 0.9805 - val_loss: 0.2034 - val_acc: 0.9380\n",
            "Epoch 34/100\n",
            "100/100 [==============================] - 30s 299ms/step - loss: 0.0671 - acc: 0.9765 - val_loss: 0.1627 - val_acc: 0.9530\n",
            "Epoch 35/100\n",
            "100/100 [==============================] - 30s 297ms/step - loss: 0.0616 - acc: 0.9795 - val_loss: 0.1977 - val_acc: 0.9380\n",
            "Epoch 36/100\n",
            "100/100 [==============================] - 30s 298ms/step - loss: 0.0537 - acc: 0.9815 - val_loss: 0.2178 - val_acc: 0.9360\n",
            "Epoch 37/100\n",
            "100/100 [==============================] - 30s 298ms/step - loss: 0.0499 - acc: 0.9805 - val_loss: 0.2440 - val_acc: 0.9350\n",
            "Epoch 38/100\n",
            "100/100 [==============================] - 30s 299ms/step - loss: 0.0664 - acc: 0.9770 - val_loss: 0.1906 - val_acc: 0.9330\n",
            "Epoch 39/100\n",
            "100/100 [==============================] - 29s 290ms/step - loss: 0.0571 - acc: 0.9815 - val_loss: 0.2664 - val_acc: 0.9290\n",
            "Epoch 40/100\n",
            "100/100 [==============================] - 28s 284ms/step - loss: 0.0583 - acc: 0.9805 - val_loss: 0.1877 - val_acc: 0.9450\n",
            "Epoch 41/100\n",
            "100/100 [==============================] - 29s 294ms/step - loss: 0.0579 - acc: 0.9805 - val_loss: 0.2018 - val_acc: 0.9340\n",
            "Epoch 42/100\n",
            "100/100 [==============================] - 30s 296ms/step - loss: 0.0431 - acc: 0.9835 - val_loss: 0.2537 - val_acc: 0.9350\n",
            "Epoch 43/100\n",
            "100/100 [==============================] - 30s 295ms/step - loss: 0.0555 - acc: 0.9770 - val_loss: 0.2057 - val_acc: 0.9330\n",
            "Epoch 44/100\n",
            "100/100 [==============================] - 29s 293ms/step - loss: 0.0484 - acc: 0.9795 - val_loss: 0.3382 - val_acc: 0.9150\n",
            "Epoch 45/100\n",
            "100/100 [==============================] - 29s 291ms/step - loss: 0.0411 - acc: 0.9850 - val_loss: 0.2351 - val_acc: 0.9310\n",
            "Epoch 46/100\n",
            "100/100 [==============================] - 29s 289ms/step - loss: 0.0502 - acc: 0.9810 - val_loss: 0.1908 - val_acc: 0.9420\n",
            "Epoch 47/100\n",
            "100/100 [==============================] - 29s 292ms/step - loss: 0.0366 - acc: 0.9895 - val_loss: 0.2498 - val_acc: 0.9340\n",
            "Epoch 48/100\n",
            "100/100 [==============================] - 29s 290ms/step - loss: 0.0517 - acc: 0.9805 - val_loss: 0.2149 - val_acc: 0.9420\n",
            "Epoch 49/100\n",
            "100/100 [==============================] - 29s 294ms/step - loss: 0.0300 - acc: 0.9875 - val_loss: 0.3152 - val_acc: 0.9270\n",
            "Epoch 50/100\n",
            "100/100 [==============================] - 28s 279ms/step - loss: 0.0366 - acc: 0.9870 - val_loss: 0.2044 - val_acc: 0.9470\n",
            "Epoch 51/100\n",
            "100/100 [==============================] - 28s 283ms/step - loss: 0.0348 - acc: 0.9865 - val_loss: 0.2878 - val_acc: 0.9250\n",
            "Epoch 52/100\n",
            "100/100 [==============================] - 29s 294ms/step - loss: 0.0210 - acc: 0.9935 - val_loss: 0.2845 - val_acc: 0.9340\n",
            "Epoch 53/100\n",
            "100/100 [==============================] - 29s 294ms/step - loss: 0.0438 - acc: 0.9835 - val_loss: 0.1881 - val_acc: 0.9380\n",
            "Epoch 54/100\n",
            "100/100 [==============================] - 29s 294ms/step - loss: 0.0313 - acc: 0.9885 - val_loss: 0.2183 - val_acc: 0.9340\n",
            "Epoch 55/100\n",
            "100/100 [==============================] - 29s 293ms/step - loss: 0.0368 - acc: 0.9865 - val_loss: 0.2987 - val_acc: 0.9250\n",
            "Epoch 56/100\n",
            "100/100 [==============================] - 29s 294ms/step - loss: 0.0330 - acc: 0.9885 - val_loss: 0.2471 - val_acc: 0.9260\n",
            "Epoch 57/100\n",
            "100/100 [==============================] - 29s 292ms/step - loss: 0.0335 - acc: 0.9870 - val_loss: 0.2537 - val_acc: 0.9400\n",
            "Epoch 58/100\n",
            "100/100 [==============================] - 29s 290ms/step - loss: 0.0407 - acc: 0.9865 - val_loss: 0.3029 - val_acc: 0.9240\n",
            "Epoch 59/100\n",
            "100/100 [==============================] - 29s 290ms/step - loss: 0.0318 - acc: 0.9875 - val_loss: 0.3623 - val_acc: 0.9170\n",
            "Epoch 60/100\n",
            "100/100 [==============================] - 29s 291ms/step - loss: 0.0297 - acc: 0.9910 - val_loss: 0.2593 - val_acc: 0.9240\n",
            "Epoch 61/100\n",
            "100/100 [==============================] - 28s 277ms/step - loss: 0.0394 - acc: 0.9855 - val_loss: 0.2704 - val_acc: 0.9440\n",
            "Epoch 62/100\n",
            "100/100 [==============================] - 28s 278ms/step - loss: 0.0321 - acc: 0.9855 - val_loss: 0.1985 - val_acc: 0.9450\n",
            "Epoch 63/100\n",
            "100/100 [==============================] - 29s 293ms/step - loss: 0.0391 - acc: 0.9845 - val_loss: 0.3478 - val_acc: 0.9200\n",
            "Epoch 64/100\n",
            "100/100 [==============================] - 29s 290ms/step - loss: 0.0308 - acc: 0.9895 - val_loss: 0.2835 - val_acc: 0.9230\n",
            "Epoch 65/100\n",
            "100/100 [==============================] - 27s 271ms/step - loss: 0.0330 - acc: 0.9855 - val_loss: 0.2565 - val_acc: 0.9260\n",
            "Epoch 66/100\n",
            "100/100 [==============================] - 25s 254ms/step - loss: 0.0303 - acc: 0.9880 - val_loss: 0.2451 - val_acc: 0.9410\n",
            "Epoch 67/100\n",
            "100/100 [==============================] - 25s 254ms/step - loss: 0.0249 - acc: 0.9905 - val_loss: 0.2412 - val_acc: 0.9410\n",
            "Epoch 68/100\n",
            "100/100 [==============================] - 26s 257ms/step - loss: 0.0291 - acc: 0.9895 - val_loss: 0.3564 - val_acc: 0.9230\n",
            "Epoch 69/100\n",
            "100/100 [==============================] - 25s 255ms/step - loss: 0.0254 - acc: 0.9925 - val_loss: 0.2678 - val_acc: 0.9430\n",
            "Epoch 70/100\n",
            "100/100 [==============================] - 26s 264ms/step - loss: 0.0254 - acc: 0.9900 - val_loss: 0.2765 - val_acc: 0.9320\n",
            "Epoch 71/100\n",
            "100/100 [==============================] - 28s 285ms/step - loss: 0.0481 - acc: 0.9875 - val_loss: 0.2685 - val_acc: 0.9220\n",
            "Epoch 72/100\n",
            "100/100 [==============================] - 28s 285ms/step - loss: 0.0241 - acc: 0.9915 - val_loss: 0.2294 - val_acc: 0.9480\n",
            "Epoch 73/100\n",
            "100/100 [==============================] - 28s 283ms/step - loss: 0.0343 - acc: 0.9890 - val_loss: 0.2771 - val_acc: 0.9390\n",
            "Epoch 74/100\n",
            "100/100 [==============================] - 26s 264ms/step - loss: 0.0259 - acc: 0.9915 - val_loss: 0.2570 - val_acc: 0.9360\n",
            "Epoch 75/100\n",
            "100/100 [==============================] - 27s 265ms/step - loss: 0.0229 - acc: 0.9920 - val_loss: 0.2427 - val_acc: 0.9430\n",
            "Epoch 76/100\n",
            "100/100 [==============================] - 27s 271ms/step - loss: 0.0306 - acc: 0.9900 - val_loss: 0.4034 - val_acc: 0.9230\n",
            "Epoch 77/100\n",
            "100/100 [==============================] - 28s 275ms/step - loss: 0.0349 - acc: 0.9895 - val_loss: 0.1973 - val_acc: 0.9510\n",
            "Epoch 78/100\n",
            "100/100 [==============================] - 28s 278ms/step - loss: 0.0246 - acc: 0.9900 - val_loss: 0.3970 - val_acc: 0.9180\n",
            "Epoch 79/100\n",
            "100/100 [==============================] - 28s 279ms/step - loss: 0.0238 - acc: 0.9930 - val_loss: 0.2911 - val_acc: 0.9380\n",
            "Epoch 80/100\n",
            "100/100 [==============================] - 28s 279ms/step - loss: 0.0218 - acc: 0.9925 - val_loss: 0.3422 - val_acc: 0.9270\n",
            "Epoch 81/100\n",
            "100/100 [==============================] - 28s 277ms/step - loss: 0.0201 - acc: 0.9910 - val_loss: 0.2775 - val_acc: 0.9400\n",
            "Epoch 82/100\n",
            "100/100 [==============================] - 28s 278ms/step - loss: 0.0340 - acc: 0.9895 - val_loss: 0.2515 - val_acc: 0.9450\n",
            "Epoch 83/100\n",
            "100/100 [==============================] - 28s 277ms/step - loss: 0.0197 - acc: 0.9955 - val_loss: 0.2382 - val_acc: 0.9370\n",
            "Epoch 84/100\n",
            "100/100 [==============================] - 28s 277ms/step - loss: 0.0238 - acc: 0.9905 - val_loss: 0.2654 - val_acc: 0.9310\n",
            "Epoch 85/100\n",
            "100/100 [==============================] - 28s 278ms/step - loss: 0.0182 - acc: 0.9895 - val_loss: 0.2629 - val_acc: 0.9350\n",
            "Epoch 86/100\n",
            "100/100 [==============================] - 28s 278ms/step - loss: 0.0196 - acc: 0.9920 - val_loss: 0.3633 - val_acc: 0.9260\n",
            "Epoch 87/100\n",
            "100/100 [==============================] - 28s 278ms/step - loss: 0.0239 - acc: 0.9935 - val_loss: 0.3991 - val_acc: 0.9150\n",
            "Epoch 88/100\n",
            "100/100 [==============================] - 28s 278ms/step - loss: 0.0175 - acc: 0.9935 - val_loss: 0.3044 - val_acc: 0.9340\n",
            "Epoch 89/100\n",
            "100/100 [==============================] - 28s 276ms/step - loss: 0.0244 - acc: 0.9895 - val_loss: 0.2669 - val_acc: 0.9360\n",
            "Epoch 90/100\n",
            "100/100 [==============================] - 28s 277ms/step - loss: 0.0157 - acc: 0.9930 - val_loss: 0.4038 - val_acc: 0.9240\n",
            "Epoch 91/100\n",
            "100/100 [==============================] - 28s 276ms/step - loss: 0.0197 - acc: 0.9945 - val_loss: 0.3883 - val_acc: 0.9200\n",
            "Epoch 92/100\n",
            "100/100 [==============================] - 28s 277ms/step - loss: 0.0170 - acc: 0.9945 - val_loss: 0.2697 - val_acc: 0.9450\n",
            "Epoch 93/100\n",
            "100/100 [==============================] - 28s 278ms/step - loss: 0.0159 - acc: 0.9930 - val_loss: 0.2790 - val_acc: 0.9320\n",
            "Epoch 94/100\n",
            "100/100 [==============================] - 28s 276ms/step - loss: 0.0305 - acc: 0.9885 - val_loss: 0.2830 - val_acc: 0.9400\n",
            "Epoch 95/100\n",
            "100/100 [==============================] - 28s 276ms/step - loss: 0.0187 - acc: 0.9945 - val_loss: 0.2825 - val_acc: 0.9320\n",
            "Epoch 96/100\n",
            "100/100 [==============================] - 28s 276ms/step - loss: 0.0194 - acc: 0.9940 - val_loss: 0.3274 - val_acc: 0.9300\n",
            "Epoch 97/100\n",
            "100/100 [==============================] - 28s 279ms/step - loss: 0.0193 - acc: 0.9930 - val_loss: 0.2031 - val_acc: 0.9500\n",
            "Epoch 98/100\n",
            "100/100 [==============================] - 28s 277ms/step - loss: 0.0186 - acc: 0.9930 - val_loss: 0.2716 - val_acc: 0.9400\n",
            "Epoch 99/100\n",
            "100/100 [==============================] - 28s 280ms/step - loss: 0.0155 - acc: 0.9945 - val_loss: 0.3143 - val_acc: 0.9350\n",
            "Epoch 100/100\n",
            "100/100 [==============================] - 28s 277ms/step - loss: 0.0180 - acc: 0.9935 - val_loss: 0.2882 - val_acc: 0.9370\n"
          ],
          "name": "stdout"
        }
      ]
    },
    {
      "metadata": {
        "id": "sJivMngztVXC",
        "colab_type": "code",
        "colab": {
          "base_uri": "https://localhost:8080/",
          "height": 544
        },
        "outputId": "2be0f66a-0359-4724-bf42-162e91b07406"
      },
      "cell_type": "code",
      "source": [
        "# Smoothing our plots\n",
        "\n",
        "def smooth_curve(points, factor=0.8):\n",
        "    smoothed_points = []\n",
        "    for point in points:\n",
        "        if smoothed_points:\n",
        "            previous = smoothed_points[-1]\n",
        "            smoothed_points.append(previous * factor + point * (1 - factor))\n",
        "        else:\n",
        "            smoothed_points.append(point)\n",
        "    return smoothed_points\n",
        "\n",
        "plt.plot(epochs,\n",
        "         smooth_curve(acc), 'bo', label='Smoothed training acc')\n",
        "plt.plot(epochs,\n",
        "         smooth_curve(val_acc), 'b', label='Smoothed validation acc')\n",
        "plt.title('Training and validation accuracy')\n",
        "plt.legend()\n",
        "plt.figure()\n",
        "\n",
        "plt.plot(epochs,\n",
        "         smooth_curve(loss), 'bo', label='Smoothed training loss')\n",
        "plt.plot(epochs,\n",
        "         smooth_curve(val_loss), 'b', label='Smoothed validation loss')\n",
        "plt.title('Training and validation loss')\n",
        "plt.legend()\n",
        "plt.show()"
      ],
      "execution_count": 16,
      "outputs": [
        {
          "output_type": "display_data",
          "data": {
            "image/png": "[encoded data removed]",
            "text/plain": [
              "<Figure size 432x288 with 1 Axes>"
            ]
          },
          "metadata": {
            "tags": []
          }
        },
        {
          "output_type": "display_data",
          "data": {
            "image/png": "[encoded data removed]",
            "text/plain": [
              "<Figure size 432x288 with 1 Axes>"
            ]
          },
          "metadata": {
            "tags": []
          }
        }
      ]
    },
    {
      "metadata": {
        "id": "mPpFnqSItVXH",
        "colab_type": "code",
        "colab": {
          "base_uri": "https://localhost:8080/",
          "height": 52
        },
        "outputId": "d65128a5-4e54-4391-a41f-7dcd5279fcf2"
      },
      "cell_type": "code",
      "source": [
        "# evaluate this model on the test data\n",
        "\n",
        "test_generator = test_datagen.flow_from_directory(\n",
        "        test_dir,\n",
        "        target_size=(150, 150),\n",
        "        batch_size=20,\n",
        "        class_mode='binary')\n",
        "\n",
        "test_loss, test_acc = model.evaluate_generator(test_generator, steps=50)\n",
        "print('test acc:', test_acc)"
      ],
      "execution_count": 17,
      "outputs": [
        {
          "output_type": "stream",
          "text": [
            "Found 1000 images belonging to 2 classes.\n",
            "test acc: 0.9319999897480011\n"
          ],
          "name": "stdout"
        }
      ]
    }
  ]
}